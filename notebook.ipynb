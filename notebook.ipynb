{
 "cells": [
  {
   "cell_type": "code",
   "execution_count": 1,
   "metadata": {},
   "outputs": [],
   "source": [
    "import pandas as pd"
   ]
  },
  {
   "cell_type": "code",
   "execution_count": 2,
   "metadata": {},
   "outputs": [],
   "source": [
    "dt1 = pd.read_csv('./dataset/car_scrape.csv')\n",
    "dt2 = pd.read_csv('./dataset/car_scrape3.csv')\n",
    "dt3 = pd.read_csv('./dataset/car_scrape4.csv')"
   ]
  },
  {
   "cell_type": "code",
   "execution_count": 13,
   "metadata": {},
   "outputs": [
    {
     "data": {
      "text/html": [
       "<div>\n",
       "<style scoped>\n",
       "    .dataframe tbody tr th:only-of-type {\n",
       "        vertical-align: middle;\n",
       "    }\n",
       "\n",
       "    .dataframe tbody tr th {\n",
       "        vertical-align: top;\n",
       "    }\n",
       "\n",
       "    .dataframe thead th {\n",
       "        text-align: right;\n",
       "    }\n",
       "</style>\n",
       "<table border=\"1\" class=\"dataframe\">\n",
       "  <thead>\n",
       "    <tr style=\"text-align: right;\">\n",
       "      <th></th>\n",
       "      <th>Name</th>\n",
       "      <th>Price</th>\n",
       "      <th>Market price</th>\n",
       "      <th>Location</th>\n",
       "      <th>Thumbnail</th>\n",
       "      <th>Images</th>\n",
       "      <th>Gear</th>\n",
       "      <th>Odometer</th>\n",
       "      <th>Fuel type</th>\n",
       "      <th>Car condition</th>\n",
       "      <th>...</th>\n",
       "      <th>Exchange Possible</th>\n",
       "      <th>Trim</th>\n",
       "      <th>Body</th>\n",
       "      <th>Drivetrain</th>\n",
       "      <th>Engine Size</th>\n",
       "      <th>Number of Cylinders</th>\n",
       "      <th>Horse Power</th>\n",
       "      <th>Seats</th>\n",
       "      <th>Interior Color</th>\n",
       "      <th>VIN Chassis number</th>\n",
       "    </tr>\n",
       "  </thead>\n",
       "  <tbody>\n",
       "    <tr>\n",
       "      <th>0</th>\n",
       "      <td>Land Rover Range Rover Vogue 2021 Black</td>\n",
       "      <td>₦ 58,000,000</td>\n",
       "      <td>NaN</td>\n",
       "      <td>NaN</td>\n",
       "      <td>https://pictures-nigeria.jijistatic.net/874925...</td>\n",
       "      <td>https://pictures-nigeria.jijistatic.net/874925...</td>\n",
       "      <td>Automatic</td>\n",
       "      <td>NaN</td>\n",
       "      <td>NaN</td>\n",
       "      <td>Foreign Used</td>\n",
       "      <td>...</td>\n",
       "      <td>Yes</td>\n",
       "      <td>NaN</td>\n",
       "      <td>NaN</td>\n",
       "      <td>NaN</td>\n",
       "      <td>NaN</td>\n",
       "      <td>NaN</td>\n",
       "      <td>NaN</td>\n",
       "      <td>NaN</td>\n",
       "      <td>NaN</td>\n",
       "      <td>NaN</td>\n",
       "    </tr>\n",
       "    <tr>\n",
       "      <th>1</th>\n",
       "      <td>Toyota Land Cruiser Prado 3.0 D-4D (190 Hp) 7 ...</td>\n",
       "      <td>₦ 37,900,000</td>\n",
       "      <td>₦ 40 M ~ 58.95 M</td>\n",
       "      <td>NaN</td>\n",
       "      <td>https://pictures-nigeria.jijistatic.net/645717...</td>\n",
       "      <td>https://pictures-nigeria.jijistatic.net/645717...</td>\n",
       "      <td>Automatic</td>\n",
       "      <td>36000 km</td>\n",
       "      <td>NaN</td>\n",
       "      <td>Foreign Used</td>\n",
       "      <td>...</td>\n",
       "      <td>NaN</td>\n",
       "      <td>3.0 D-4D (190 Hp) 7 seats</td>\n",
       "      <td>SUV</td>\n",
       "      <td>All Wheel</td>\n",
       "      <td>3000           cc</td>\n",
       "      <td>4.0</td>\n",
       "      <td>190           hp</td>\n",
       "      <td>7.0</td>\n",
       "      <td>NaN</td>\n",
       "      <td>NaN</td>\n",
       "    </tr>\n",
       "    <tr>\n",
       "      <th>2</th>\n",
       "      <td>Lexus GX 460 Luxury 2015 Black</td>\n",
       "      <td>₦ 48,880,000</td>\n",
       "      <td>₦ 45 M ~ 48 M</td>\n",
       "      <td>NaN</td>\n",
       "      <td>https://i.ytimg.com/vi/uP1gJySDg5Y/sddefault.jpg</td>\n",
       "      <td>https://i.ytimg.com/vi/uP1gJySDg5Y/sddefault.j...</td>\n",
       "      <td>Automatic</td>\n",
       "      <td>86489 km</td>\n",
       "      <td>Petrol</td>\n",
       "      <td>Foreign Used</td>\n",
       "      <td>...</td>\n",
       "      <td>No</td>\n",
       "      <td>460 Luxury</td>\n",
       "      <td>SUV</td>\n",
       "      <td>4x4</td>\n",
       "      <td>4600           cc</td>\n",
       "      <td>8.0</td>\n",
       "      <td>301           hp</td>\n",
       "      <td>7.0</td>\n",
       "      <td>NaN</td>\n",
       "      <td>NaN</td>\n",
       "    </tr>\n",
       "  </tbody>\n",
       "</table>\n",
       "<p>3 rows × 29 columns</p>\n",
       "</div>"
      ],
      "text/plain": [
       "                                                Name         Price  \\\n",
       "0            Land Rover Range Rover Vogue 2021 Black  ₦ 58,000,000   \n",
       "1  Toyota Land Cruiser Prado 3.0 D-4D (190 Hp) 7 ...  ₦ 37,900,000   \n",
       "2                     Lexus GX 460 Luxury 2015 Black  ₦ 48,880,000   \n",
       "\n",
       "       Market price  Location  \\\n",
       "0               NaN       NaN   \n",
       "1  ₦ 40 M ~ 58.95 M       NaN   \n",
       "2     ₦ 45 M ~ 48 M       NaN   \n",
       "\n",
       "                                           Thumbnail  \\\n",
       "0  https://pictures-nigeria.jijistatic.net/874925...   \n",
       "1  https://pictures-nigeria.jijistatic.net/645717...   \n",
       "2   https://i.ytimg.com/vi/uP1gJySDg5Y/sddefault.jpg   \n",
       "\n",
       "                                              Images       Gear  Odometer  \\\n",
       "0  https://pictures-nigeria.jijistatic.net/874925...  Automatic       NaN   \n",
       "1  https://pictures-nigeria.jijistatic.net/645717...  Automatic  36000 km   \n",
       "2  https://i.ytimg.com/vi/uP1gJySDg5Y/sddefault.j...  Automatic  86489 km   \n",
       "\n",
       "  Fuel type Car condition  ... Exchange Possible                       Trim  \\\n",
       "0       NaN  Foreign Used  ...               Yes                        NaN   \n",
       "1       NaN  Foreign Used  ...               NaN  3.0 D-4D (190 Hp) 7 seats   \n",
       "2    Petrol  Foreign Used  ...                No                 460 Luxury   \n",
       "\n",
       "  Body Drivetrain        Engine Size Number of Cylinders       Horse Power  \\\n",
       "0  NaN        NaN                NaN                 NaN               NaN   \n",
       "1  SUV  All Wheel  3000           cc                 4.0  190           hp   \n",
       "2  SUV        4x4  4600           cc                 8.0  301           hp   \n",
       "\n",
       "  Seats Interior Color VIN Chassis number  \n",
       "0   NaN            NaN                NaN  \n",
       "1   7.0            NaN                NaN  \n",
       "2   7.0            NaN                NaN  \n",
       "\n",
       "[3 rows x 29 columns]"
      ]
     },
     "execution_count": 13,
     "metadata": {},
     "output_type": "execute_result"
    }
   ],
   "source": [
    "dt1.head(3)"
   ]
  },
  {
   "cell_type": "code",
   "execution_count": 11,
   "metadata": {},
   "outputs": [],
   "source": [
    "car_data = pd.concat([dt1, dt2, dt3], axis=0).drop_duplicates().to_csv('new_scrapee.csv', index=False)\n",
    "car_data"
   ]
  },
  {
   "cell_type": "code",
   "execution_count": 5,
   "metadata": {},
   "outputs": [
    {
     "name": "stdout",
     "output_type": "stream",
     "text": [
      "(10, 29)\n",
      "Index(['Name', 'Price', 'Market price', 'Location', 'Thumbnail', 'Images',\n",
      "       'Gear', 'Odometer', 'Fuel type', 'Car condition', 'Other features',\n",
      "       'Dealer name', 'Page link', 'Second Condition', 'Make', 'Model',\n",
      "       'Year of Manufacture', 'Color', 'Registered Car', 'Exchange Possible',\n",
      "       'Trim', 'Body', 'Drivetrain', 'Engine Size', 'Number of Cylinders',\n",
      "       'Horse Power', 'Seats', 'Interior Color', 'VIN Chassis number'],\n",
      "      dtype='object')\n",
      "29\n"
     ]
    }
   ],
   "source": [
    "print(dt1.shape)\n",
    "print(dt1.columns)\n",
    "print(len(dt1.columns))"
   ]
  },
  {
   "cell_type": "code",
   "execution_count": 6,
   "metadata": {},
   "outputs": [
    {
     "name": "stdout",
     "output_type": "stream",
     "text": [
      "(3610, 30)\n",
      "Index(['Name', 'Price', 'Market price', 'Location', 'Thumbnail', 'Images',\n",
      "       'Gear', 'Odometer', 'Fuel type', 'Car condition', 'Other features',\n",
      "       'Dealer name', 'Page link', 'Second Condition', 'Make', 'Model',\n",
      "       'Year of Manufacture', 'Color', 'Registered Car', 'Trim', 'Body',\n",
      "       'Drivetrain', 'Engine Size', 'Number of Cylinders', 'Horse Power',\n",
      "       'Seats', 'Exchange Possible', 'VIN Chassis number', 'Mileage',\n",
      "       'VIN number'],\n",
      "      dtype='object')\n",
      "30\n"
     ]
    }
   ],
   "source": [
    "print(dt2.shape)\n",
    "print(dt2.columns)\n",
    "print(len(dt2.columns))"
   ]
  },
  {
   "cell_type": "code",
   "execution_count": 5,
   "metadata": {},
   "outputs": [
    {
     "name": "stdout",
     "output_type": "stream",
     "text": [
      "(1650, 30)\n",
      "Index(['Name', 'Price', 'Market price', 'Location', 'Thumbnail', 'Images',\n",
      "       'Gear', 'Odometer', 'Fuel type', 'Car condition', 'Other features',\n",
      "       'Dealer name', 'Page link', 'Second Condition', 'Make', 'Model',\n",
      "       'Year of Manufacture', 'Trim', 'Body', 'Drivetrain', 'Engine Size',\n",
      "       'Number of Cylinders', 'Horse Power', 'Color', 'Seats',\n",
      "       'Registered Car', 'Exchange Possible', 'VIN Chassis number',\n",
      "       'VIN number', 'Mileage'],\n",
      "      dtype='object')\n",
      "30\n"
     ]
    }
   ],
   "source": [
    "print(dt3.shape)\n",
    "print(dt3.columns)\n",
    "print(len(dt3.columns))"
   ]
  },
  {
   "cell_type": "code",
   "execution_count": 7,
   "metadata": {},
   "outputs": [
    {
     "name": "stdout",
     "output_type": "stream",
     "text": [
      "{'Engine Size', 'Body', 'Fuel type', 'Color', 'Thumbnail', 'Horse Power', 'Market price', 'Car condition', 'Other features', 'Year of Manufacture', 'Registered Car', 'Odometer', 'Page link', 'Drivetrain', 'Model', 'Second Condition', 'Images', 'Price', 'Name', 'Mileage', 'Location', 'Trim', 'Make', 'Gear', 'Number of Cylinders', 'Exchange Possible', 'VIN number', 'Seats', 'Dealer name', 'VIN Chassis number'}\n"
     ]
    }
   ],
   "source": [
    "union = set(dt2.columns).union(set(dt3.columns))\n",
    "print(union)"
   ]
  },
  {
   "cell_type": "code",
   "execution_count": null,
   "metadata": {},
   "outputs": [],
   "source": []
  }
 ],
 "metadata": {
  "kernelspec": {
   "display_name": "venv",
   "language": "python",
   "name": "python3"
  },
  "language_info": {
   "codemirror_mode": {
    "name": "ipython",
    "version": 3
   },
   "file_extension": ".py",
   "mimetype": "text/x-python",
   "name": "python",
   "nbconvert_exporter": "python",
   "pygments_lexer": "ipython3",
   "version": "3.12.3"
  },
  "orig_nbformat": 4
 },
 "nbformat": 4,
 "nbformat_minor": 2
}
